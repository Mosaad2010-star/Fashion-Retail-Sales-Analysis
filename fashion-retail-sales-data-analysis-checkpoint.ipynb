{
 "cells": [
  {
   "cell_type": "markdown",
   "id": "ae2098ad",
   "metadata": {
    "papermill": {
     "duration": 0.007838,
     "end_time": "2025-04-15T06:40:54.457889",
     "exception": false,
     "start_time": "2025-04-15T06:40:54.450051",
     "status": "completed"
    },
    "tags": []
   },
   "source": [
    "---\n",
    "\n",
    "##  Dataset Description – **Fashion Retail Sales Dataset**\n",
    "\n",
    "###  Overview:\n",
    "\n",
    "The **Fashion Retail Sales** dataset contains transaction-level sales records from a fashion retail business. It is structured to provide insights into individual customer purchasing behavior, overall sales performance, and customer satisfaction.\n",
    "\n",
    "The dataset includes core variables related to purchase amount, payment method, customer feedback, and product identifiers. This makes it suitable for both predictive modeling (e.g., regression analysis) and customer-focused analytics such as segmentation and behavior analysis.\n",
    "\n",
    "###  Dataset Dimensions:\n",
    "- **Total Observations (Rows):** 2,487  \n",
    "- **Total Features (Columns):** 6\n",
    "\n",
    "---\n",
    "\n",
    "##  Feature Summary\n",
    "\n",
    "| Feature Name | Description | Data Type |\n",
    "|--------------|-------------|-----------|\n",
    "| **Customer Reference ID** | A unique identifier assigned to each customer. It can be used for grouping or segmentation but is not a predictive feature. | Integer |\n",
    "| **Item Purchased** | Represents the ID of the product purchased. Useful for analyzing product-level trends and customer preferences. | Integer (categorical encoded) |\n",
    "| **Purchase Amount (USD)** | The total amount spent in USD for each transaction. This is typically used as the **target variable** in prediction tasks. | Float |\n",
    "| **Date Purchase** | The date the transaction occurred. Can be converted to a datetime format for temporal analysis or trend detection. | Integer (in YYYYMMDD format) |\n",
    "| **Review Rating** | The customer's rating for the purchase experience. Helps evaluate customer satisfaction and its relationship with spending. | Float |\n",
    "| **Payment Method** | Encoded numeric value representing the payment method used (e.g., card, cash, transfer). Allows analysis of payment preferences and their impact on purchase amounts. | Integer (categorical encoded) |\n",
    "\n",
    "---"
   ]
  },
  {
   "cell_type": "markdown",
   "id": "e8c3a67d",
   "metadata": {
    "papermill": {
     "duration": 0.006468,
     "end_time": "2025-04-15T06:40:54.471215",
     "exception": false,
     "start_time": "2025-04-15T06:40:54.464747",
     "status": "completed"
    },
    "tags": []
   },
   "source": [
    "# 1. IMPORT REQUIRED LIBRARIES"
   ]
  },
  {
   "cell_type": "code",
   "execution_count": 1,
   "id": "7fe0353a",
   "metadata": {
    "_cell_guid": "b1076dfc-b9ad-4769-8c92-a6c4dae69d19",
    "_uuid": "8f2839f25d086af736a60e9eeb907d3b93b6e0e5",
    "execution": {
     "iopub.execute_input": "2025-04-15T06:40:54.485814Z",
     "iopub.status.busy": "2025-04-15T06:40:54.485490Z",
     "iopub.status.idle": "2025-04-15T06:40:58.425323Z",
     "shell.execute_reply": "2025-04-15T06:40:58.424181Z"
    },
    "papermill": {
     "duration": 3.94904,
     "end_time": "2025-04-15T06:40:58.426882",
     "exception": false,
     "start_time": "2025-04-15T06:40:54.477842",
     "status": "completed"
    },
    "tags": []
   },
   "outputs": [
    {
     "name": "stdout",
     "output_type": "stream",
     "text": [
      "/kaggle/input/fashion-retail-sales/Fashion_Retail_Sales.csv\n"
     ]
    }
   ],
   "source": [
    "# This Python 3 environment comes with many helpful analytics libraries installed\n",
    "# It is defined by the kaggle/python Docker image: https://github.com/kaggle/docker-python\n",
    "# For example, here's several helpful packages to load\n",
    "\n",
    "import numpy as np # linear algebra\n",
    "import pandas as pd # data processing, CSV file I/O (e.g. pd.read_csv)\n",
    "import matplotlib.pyplot as plt\n",
    "import seaborn as sns\n",
    "\n",
    "from sklearn.preprocessing import LabelEncoder, StandardScaler\n",
    "from sklearn.model_selection import train_test_split\n",
    "from sklearn.linear_model import LinearRegression, Ridge, Lasso\n",
    "from sklearn.metrics import mean_squared_error, r2_score\n",
    "from sklearn.cluster import KMeans\n",
    "\n",
    "import warnings\n",
    "warnings.filterwarnings('ignore')\n",
    "# Input data files are available in the read-only \"../input/\" directory\n",
    "# For example, running this (by clicking run or pressing Shift+Enter) will list all files under the input directory\n",
    "\n",
    "import os\n",
    "for dirname, _, filenames in os.walk('/kaggle/input'):\n",
    "    for filename in filenames:\n",
    "        print(os.path.join(dirname, filename))\n",
    "\n",
    "# You can write up to 20GB to the current directory (/kaggle/working/) that gets preserved as output when you create a version using \"Save & Run All\" \n",
    "# You can also write temporary files to /kaggle/temp/, but they won't be saved outside of the current session"
   ]
  },
  {
   "cell_type": "markdown",
   "id": "028c012d",
   "metadata": {
    "papermill": {
     "duration": 0.013431,
     "end_time": "2025-04-15T06:40:58.451911",
     "exception": false,
     "start_time": "2025-04-15T06:40:58.438480",
     "status": "completed"
    },
    "tags": []
   },
   "source": [
    "# 2. LOAD THE DATA"
   ]
  },
  {
   "cell_type": "code",
   "execution_count": 2,
   "id": "7c84ae61",
   "metadata": {
    "execution": {
     "iopub.execute_input": "2025-04-15T06:40:58.472854Z",
     "iopub.status.busy": "2025-04-15T06:40:58.472334Z",
     "iopub.status.idle": "2025-04-15T06:40:58.497055Z",
     "shell.execute_reply": "2025-04-15T06:40:58.496241Z"
    },
    "papermill": {
     "duration": 0.035162,
     "end_time": "2025-04-15T06:40:58.498561",
     "exception": false,
     "start_time": "2025-04-15T06:40:58.463399",
     "status": "completed"
    },
    "tags": []
   },
   "outputs": [],
   "source": [
    "df = pd.read_csv(\"/kaggle/input/fashion-retail-sales/Fashion_Retail_Sales.csv\")"
   ]
  },
  {
   "cell_type": "markdown",
   "id": "dc9949b4",
   "metadata": {
    "papermill": {
     "duration": 0.006663,
     "end_time": "2025-04-15T06:40:58.513234",
     "exception": false,
     "start_time": "2025-04-15T06:40:58.506571",
     "status": "completed"
    },
    "tags": []
   },
   "source": [
    "# 3. BASIC INFO"
   ]
  },
  {
   "cell_type": "code",
   "execution_count": 3,
   "id": "d3302b58",
   "metadata": {
    "execution": {
     "iopub.execute_input": "2025-04-15T06:40:58.528016Z",
     "iopub.status.busy": "2025-04-15T06:40:58.527680Z",
     "iopub.status.idle": "2025-04-15T06:40:58.551443Z",
     "shell.execute_reply": "2025-04-15T06:40:58.550650Z"
    },
    "papermill": {
     "duration": 0.032685,
     "end_time": "2025-04-15T06:40:58.552745",
     "exception": false,
     "start_time": "2025-04-15T06:40:58.520060",
     "status": "completed"
    },
    "tags": []
   },
   "outputs": [
    {
     "data": {
      "text/html": [
       "<div>\n",
       "<style scoped>\n",
       "    .dataframe tbody tr th:only-of-type {\n",
       "        vertical-align: middle;\n",
       "    }\n",
       "\n",
       "    .dataframe tbody tr th {\n",
       "        vertical-align: top;\n",
       "    }\n",
       "\n",
       "    .dataframe thead th {\n",
       "        text-align: right;\n",
       "    }\n",
       "</style>\n",
       "<table border=\"1\" class=\"dataframe\">\n",
       "  <thead>\n",
       "    <tr style=\"text-align: right;\">\n",
       "      <th></th>\n",
       "      <th>Customer Reference ID</th>\n",
       "      <th>Item Purchased</th>\n",
       "      <th>Purchase Amount (USD)</th>\n",
       "      <th>Date Purchase</th>\n",
       "      <th>Review Rating</th>\n",
       "      <th>Payment Method</th>\n",
       "    </tr>\n",
       "  </thead>\n",
       "  <tbody>\n",
       "    <tr>\n",
       "      <th>0</th>\n",
       "      <td>4018</td>\n",
       "      <td>Handbag</td>\n",
       "      <td>4619.0</td>\n",
       "      <td>05-02-2023</td>\n",
       "      <td>NaN</td>\n",
       "      <td>Credit Card</td>\n",
       "    </tr>\n",
       "    <tr>\n",
       "      <th>1</th>\n",
       "      <td>4115</td>\n",
       "      <td>Tunic</td>\n",
       "      <td>2456.0</td>\n",
       "      <td>11-07-2023</td>\n",
       "      <td>2.0</td>\n",
       "      <td>Credit Card</td>\n",
       "    </tr>\n",
       "    <tr>\n",
       "      <th>2</th>\n",
       "      <td>4019</td>\n",
       "      <td>Tank Top</td>\n",
       "      <td>2102.0</td>\n",
       "      <td>23-03-2023</td>\n",
       "      <td>4.1</td>\n",
       "      <td>Cash</td>\n",
       "    </tr>\n",
       "    <tr>\n",
       "      <th>3</th>\n",
       "      <td>4097</td>\n",
       "      <td>Leggings</td>\n",
       "      <td>3126.0</td>\n",
       "      <td>15-03-2023</td>\n",
       "      <td>3.2</td>\n",
       "      <td>Cash</td>\n",
       "    </tr>\n",
       "    <tr>\n",
       "      <th>4</th>\n",
       "      <td>3997</td>\n",
       "      <td>Wallet</td>\n",
       "      <td>3003.0</td>\n",
       "      <td>27-11-2022</td>\n",
       "      <td>4.7</td>\n",
       "      <td>Cash</td>\n",
       "    </tr>\n",
       "  </tbody>\n",
       "</table>\n",
       "</div>"
      ],
      "text/plain": [
       "   Customer Reference ID Item Purchased  Purchase Amount (USD) Date Purchase  \\\n",
       "0                   4018        Handbag                 4619.0    05-02-2023   \n",
       "1                   4115          Tunic                 2456.0    11-07-2023   \n",
       "2                   4019       Tank Top                 2102.0    23-03-2023   \n",
       "3                   4097       Leggings                 3126.0    15-03-2023   \n",
       "4                   3997         Wallet                 3003.0    27-11-2022   \n",
       "\n",
       "   Review Rating Payment Method  \n",
       "0            NaN    Credit Card  \n",
       "1            2.0    Credit Card  \n",
       "2            4.1           Cash  \n",
       "3            3.2           Cash  \n",
       "4            4.7           Cash  "
      ]
     },
     "execution_count": 3,
     "metadata": {},
     "output_type": "execute_result"
    }
   ],
   "source": [
    "df.head()"
   ]
  },
  {
   "cell_type": "code",
   "execution_count": 4,
   "id": "e51575c6",
   "metadata": {
    "execution": {
     "iopub.execute_input": "2025-04-15T06:40:58.568675Z",
     "iopub.status.busy": "2025-04-15T06:40:58.568375Z",
     "iopub.status.idle": "2025-04-15T06:40:58.589296Z",
     "shell.execute_reply": "2025-04-15T06:40:58.588120Z"
    },
    "papermill": {
     "duration": 0.030192,
     "end_time": "2025-04-15T06:40:58.590731",
     "exception": false,
     "start_time": "2025-04-15T06:40:58.560539",
     "status": "completed"
    },
    "tags": []
   },
   "outputs": [
    {
     "name": "stdout",
     "output_type": "stream",
     "text": [
      "<class 'pandas.core.frame.DataFrame'>\n",
      "RangeIndex: 3400 entries, 0 to 3399\n",
      "Data columns (total 6 columns):\n",
      " #   Column                 Non-Null Count  Dtype  \n",
      "---  ------                 --------------  -----  \n",
      " 0   Customer Reference ID  3400 non-null   int64  \n",
      " 1   Item Purchased         3400 non-null   object \n",
      " 2   Purchase Amount (USD)  2750 non-null   float64\n",
      " 3   Date Purchase          3400 non-null   object \n",
      " 4   Review Rating          3076 non-null   float64\n",
      " 5   Payment Method         3400 non-null   object \n",
      "dtypes: float64(2), int64(1), object(3)\n",
      "memory usage: 159.5+ KB\n"
     ]
    }
   ],
   "source": [
    "df.info()"
   ]
  },
  {
   "cell_type": "code",
   "execution_count": 5,
   "id": "d762c714",
   "metadata": {
    "execution": {
     "iopub.execute_input": "2025-04-15T06:40:58.606512Z",
     "iopub.status.busy": "2025-04-15T06:40:58.605884Z",
     "iopub.status.idle": "2025-04-15T06:40:58.613182Z",
     "shell.execute_reply": "2025-04-15T06:40:58.612193Z"
    },
    "papermill": {
     "duration": 0.016858,
     "end_time": "2025-04-15T06:40:58.614889",
     "exception": false,
     "start_time": "2025-04-15T06:40:58.598031",
     "status": "completed"
    },
    "tags": []
   },
   "outputs": [
    {
     "data": {
      "text/plain": [
       "Customer Reference ID      0\n",
       "Item Purchased             0\n",
       "Purchase Amount (USD)    650\n",
       "Date Purchase              0\n",
       "Review Rating            324\n",
       "Payment Method             0\n",
       "dtype: int64"
      ]
     },
     "execution_count": 5,
     "metadata": {},
     "output_type": "execute_result"
    }
   ],
   "source": [
    "df.isnull().sum()"
   ]
  },
  {
   "cell_type": "markdown",
   "id": "e1a72181",
   "metadata": {
    "papermill": {
     "duration": 0.008193,
     "end_time": "2025-04-15T06:40:58.634229",
     "exception": false,
     "start_time": "2025-04-15T06:40:58.626036",
     "status": "completed"
    },
    "tags": []
   },
   "source": [
    "# 4. DATA CLEANING"
   ]
  },
  {
   "cell_type": "markdown",
   "id": "03041c39",
   "metadata": {
    "papermill": {
     "duration": 0.006978,
     "end_time": "2025-04-15T06:40:58.650319",
     "exception": false,
     "start_time": "2025-04-15T06:40:58.643341",
     "status": "completed"
    },
    "tags": []
   },
   "source": [
    "## Rename columns for easier use"
   ]
  },
  {
   "cell_type": "code",
   "execution_count": 6,
   "id": "6d23b8dc",
   "metadata": {
    "execution": {
     "iopub.execute_input": "2025-04-15T06:40:58.667841Z",
     "iopub.status.busy": "2025-04-15T06:40:58.667049Z",
     "iopub.status.idle": "2025-04-15T06:40:58.672438Z",
     "shell.execute_reply": "2025-04-15T06:40:58.671732Z"
    },
    "papermill": {
     "duration": 0.016088,
     "end_time": "2025-04-15T06:40:58.673769",
     "exception": false,
     "start_time": "2025-04-15T06:40:58.657681",
     "status": "completed"
    },
    "tags": []
   },
   "outputs": [],
   "source": [
    "df.columns = df.columns.str.strip().str.replace(\" \", \"_\").str.replace(\"(\", \"\").str.replace(\")\", \"\")"
   ]
  },
  {
   "cell_type": "markdown",
   "id": "37bc90a2",
   "metadata": {
    "papermill": {
     "duration": 0.006825,
     "end_time": "2025-04-15T06:40:58.687907",
     "exception": false,
     "start_time": "2025-04-15T06:40:58.681082",
     "status": "completed"
    },
    "tags": []
   },
   "source": [
    "## Convert categorical columns to numeric using Label Encoding"
   ]
  },
  {
   "cell_type": "code",
   "execution_count": 7,
   "id": "deece9a3",
   "metadata": {
    "execution": {
     "iopub.execute_input": "2025-04-15T06:40:58.703002Z",
     "iopub.status.busy": "2025-04-15T06:40:58.702684Z",
     "iopub.status.idle": "2025-04-15T06:40:58.711568Z",
     "shell.execute_reply": "2025-04-15T06:40:58.710724Z"
    },
    "papermill": {
     "duration": 0.017953,
     "end_time": "2025-04-15T06:40:58.712858",
     "exception": false,
     "start_time": "2025-04-15T06:40:58.694905",
     "status": "completed"
    },
    "tags": []
   },
   "outputs": [],
   "source": [
    "cat_cols = df.select_dtypes(include='object').columns\n",
    "le = LabelEncoder()\n",
    "for col in cat_cols:\n",
    "    df[col] = le.fit_transform(df[col])"
   ]
  },
  {
   "cell_type": "code",
   "execution_count": 8,
   "id": "ef4a8c71",
   "metadata": {
    "execution": {
     "iopub.execute_input": "2025-04-15T06:40:58.728591Z",
     "iopub.status.busy": "2025-04-15T06:40:58.728300Z",
     "iopub.status.idle": "2025-04-15T06:40:58.733407Z",
     "shell.execute_reply": "2025-04-15T06:40:58.732747Z"
    },
    "papermill": {
     "duration": 0.014444,
     "end_time": "2025-04-15T06:40:58.734653",
     "exception": false,
     "start_time": "2025-04-15T06:40:58.720209",
     "status": "completed"
    },
    "tags": []
   },
   "outputs": [
    {
     "data": {
      "text/plain": [
       "(3400, 6)"
      ]
     },
     "execution_count": 8,
     "metadata": {},
     "output_type": "execute_result"
    }
   ],
   "source": [
    "df.shape"
   ]
  },
  {
   "cell_type": "code",
   "execution_count": 9,
   "id": "e1248bf1",
   "metadata": {
    "execution": {
     "iopub.execute_input": "2025-04-15T06:40:58.750411Z",
     "iopub.status.busy": "2025-04-15T06:40:58.750031Z",
     "iopub.status.idle": "2025-04-15T06:40:58.758457Z",
     "shell.execute_reply": "2025-04-15T06:40:58.757600Z"
    },
    "papermill": {
     "duration": 0.017841,
     "end_time": "2025-04-15T06:40:58.759908",
     "exception": false,
     "start_time": "2025-04-15T06:40:58.742067",
     "status": "completed"
    },
    "tags": []
   },
   "outputs": [],
   "source": [
    "df = df.dropna()"
   ]
  },
  {
   "cell_type": "code",
   "execution_count": 10,
   "id": "b3114ebe",
   "metadata": {
    "execution": {
     "iopub.execute_input": "2025-04-15T06:40:58.778067Z",
     "iopub.status.busy": "2025-04-15T06:40:58.777246Z",
     "iopub.status.idle": "2025-04-15T06:40:58.786923Z",
     "shell.execute_reply": "2025-04-15T06:40:58.785953Z"
    },
    "papermill": {
     "duration": 0.021046,
     "end_time": "2025-04-15T06:40:58.788234",
     "exception": false,
     "start_time": "2025-04-15T06:40:58.767188",
     "status": "completed"
    },
    "tags": []
   },
   "outputs": [
    {
     "name": "stdout",
     "output_type": "stream",
     "text": [
      "<class 'pandas.core.frame.DataFrame'>\n",
      "Index: 2487 entries, 1 to 3399\n",
      "Data columns (total 6 columns):\n",
      " #   Column                 Non-Null Count  Dtype  \n",
      "---  ------                 --------------  -----  \n",
      " 0   Customer_Reference_ID  2487 non-null   int64  \n",
      " 1   Item_Purchased         2487 non-null   int64  \n",
      " 2   Purchase_Amount_USD    2487 non-null   float64\n",
      " 3   Date_Purchase          2487 non-null   int64  \n",
      " 4   Review_Rating          2487 non-null   float64\n",
      " 5   Payment_Method         2487 non-null   int64  \n",
      "dtypes: float64(2), int64(4)\n",
      "memory usage: 136.0 KB\n"
     ]
    }
   ],
   "source": [
    "df.info()"
   ]
  },
  {
   "cell_type": "markdown",
   "id": "98496660",
   "metadata": {
    "papermill": {
     "duration": 0.066116,
     "end_time": "2025-04-15T06:40:58.861833",
     "exception": false,
     "start_time": "2025-04-15T06:40:58.795717",
     "status": "completed"
    },
    "tags": []
   },
   "source": [
    "# 5. BASIC STATISTICS"
   ]
  },
  {
   "cell_type": "code",
   "execution_count": 11,
   "id": "cfe13dc8",
   "metadata": {
    "execution": {
     "iopub.execute_input": "2025-04-15T06:40:58.878372Z",
     "iopub.status.busy": "2025-04-15T06:40:58.877563Z",
     "iopub.status.idle": "2025-04-15T06:40:58.902499Z",
     "shell.execute_reply": "2025-04-15T06:40:58.901670Z"
    },
    "papermill": {
     "duration": 0.034702,
     "end_time": "2025-04-15T06:40:58.903963",
     "exception": false,
     "start_time": "2025-04-15T06:40:58.869261",
     "status": "completed"
    },
    "tags": []
   },
   "outputs": [
    {
     "data": {
      "text/html": [
       "<div>\n",
       "<style scoped>\n",
       "    .dataframe tbody tr th:only-of-type {\n",
       "        vertical-align: middle;\n",
       "    }\n",
       "\n",
       "    .dataframe tbody tr th {\n",
       "        vertical-align: top;\n",
       "    }\n",
       "\n",
       "    .dataframe thead th {\n",
       "        text-align: right;\n",
       "    }\n",
       "</style>\n",
       "<table border=\"1\" class=\"dataframe\">\n",
       "  <thead>\n",
       "    <tr style=\"text-align: right;\">\n",
       "      <th></th>\n",
       "      <th>Customer_Reference_ID</th>\n",
       "      <th>Item_Purchased</th>\n",
       "      <th>Purchase_Amount_USD</th>\n",
       "      <th>Date_Purchase</th>\n",
       "      <th>Review_Rating</th>\n",
       "      <th>Payment_Method</th>\n",
       "    </tr>\n",
       "  </thead>\n",
       "  <tbody>\n",
       "    <tr>\n",
       "      <th>count</th>\n",
       "      <td>2487.000000</td>\n",
       "      <td>2487.000000</td>\n",
       "      <td>2487.000000</td>\n",
       "      <td>2487.000000</td>\n",
       "      <td>2487.000000</td>\n",
       "      <td>2487.000000</td>\n",
       "    </tr>\n",
       "    <tr>\n",
       "      <th>mean</th>\n",
       "      <td>4040.224769</td>\n",
       "      <td>24.537998</td>\n",
       "      <td>149.609972</td>\n",
       "      <td>181.090470</td>\n",
       "      <td>2.986248</td>\n",
       "      <td>0.523924</td>\n",
       "    </tr>\n",
       "    <tr>\n",
       "      <th>std</th>\n",
       "      <td>48.364412</td>\n",
       "      <td>14.541866</td>\n",
       "      <td>389.263631</td>\n",
       "      <td>106.444537</td>\n",
       "      <td>1.150691</td>\n",
       "      <td>0.499528</td>\n",
       "    </tr>\n",
       "    <tr>\n",
       "      <th>min</th>\n",
       "      <td>3957.000000</td>\n",
       "      <td>0.000000</td>\n",
       "      <td>10.000000</td>\n",
       "      <td>0.000000</td>\n",
       "      <td>1.000000</td>\n",
       "      <td>0.000000</td>\n",
       "    </tr>\n",
       "    <tr>\n",
       "      <th>25%</th>\n",
       "      <td>3998.000000</td>\n",
       "      <td>12.000000</td>\n",
       "      <td>57.000000</td>\n",
       "      <td>86.000000</td>\n",
       "      <td>2.000000</td>\n",
       "      <td>0.000000</td>\n",
       "    </tr>\n",
       "    <tr>\n",
       "      <th>50%</th>\n",
       "      <td>4042.000000</td>\n",
       "      <td>25.000000</td>\n",
       "      <td>110.000000</td>\n",
       "      <td>182.000000</td>\n",
       "      <td>3.000000</td>\n",
       "      <td>1.000000</td>\n",
       "    </tr>\n",
       "    <tr>\n",
       "      <th>75%</th>\n",
       "      <td>4082.000000</td>\n",
       "      <td>37.000000</td>\n",
       "      <td>154.000000</td>\n",
       "      <td>272.000000</td>\n",
       "      <td>4.000000</td>\n",
       "      <td>1.000000</td>\n",
       "    </tr>\n",
       "    <tr>\n",
       "      <th>max</th>\n",
       "      <td>4122.000000</td>\n",
       "      <td>49.000000</td>\n",
       "      <td>4932.000000</td>\n",
       "      <td>364.000000</td>\n",
       "      <td>5.000000</td>\n",
       "      <td>1.000000</td>\n",
       "    </tr>\n",
       "  </tbody>\n",
       "</table>\n",
       "</div>"
      ],
      "text/plain": [
       "       Customer_Reference_ID  Item_Purchased  Purchase_Amount_USD  \\\n",
       "count            2487.000000     2487.000000          2487.000000   \n",
       "mean             4040.224769       24.537998           149.609972   \n",
       "std                48.364412       14.541866           389.263631   \n",
       "min              3957.000000        0.000000            10.000000   \n",
       "25%              3998.000000       12.000000            57.000000   \n",
       "50%              4042.000000       25.000000           110.000000   \n",
       "75%              4082.000000       37.000000           154.000000   \n",
       "max              4122.000000       49.000000          4932.000000   \n",
       "\n",
       "       Date_Purchase  Review_Rating  Payment_Method  \n",
       "count    2487.000000    2487.000000     2487.000000  \n",
       "mean      181.090470       2.986248        0.523924  \n",
       "std       106.444537       1.150691        0.499528  \n",
       "min         0.000000       1.000000        0.000000  \n",
       "25%        86.000000       2.000000        0.000000  \n",
       "50%       182.000000       3.000000        1.000000  \n",
       "75%       272.000000       4.000000        1.000000  \n",
       "max       364.000000       5.000000        1.000000  "
      ]
     },
     "execution_count": 11,
     "metadata": {},
     "output_type": "execute_result"
    }
   ],
   "source": [
    "df.describe()"
   ]
  },
  {
   "cell_type": "markdown",
   "id": "de4ed66e",
   "metadata": {
    "papermill": {
     "duration": 0.011452,
     "end_time": "2025-04-15T06:40:58.923676",
     "exception": false,
     "start_time": "2025-04-15T06:40:58.912224",
     "status": "completed"
    },
    "tags": []
   },
   "source": [
    "# 6. EXPLORATORY DATA ANALYSIS (EDA)"
   ]
  },
  {
   "cell_type": "markdown",
   "id": "56cab855",
   "metadata": {
    "papermill": {
     "duration": 0.010595,
     "end_time": "2025-04-15T06:40:58.942145",
     "exception": false,
     "start_time": "2025-04-15T06:40:58.931550",
     "status": "completed"
    },
    "tags": []
   },
   "source": [
    "## Purchase amount distribution"
   ]
  },
  {
   "cell_type": "code",
   "execution_count": 12,
   "id": "f203c83a",
   "metadata": {
    "execution": {
     "iopub.execute_input": "2025-04-15T06:40:58.967074Z",
     "iopub.status.busy": "2025-04-15T06:40:58.966751Z",
     "iopub.status.idle": "2025-04-15T06:40:59.332947Z",
     "shell.execute_reply": "2025-04-15T06:40:59.332116Z"
    },
    "papermill": {
     "duration": 0.378584,
     "end_time": "2025-04-15T06:40:59.334247",
     "exception": false,
     "start_time": "2025-04-15T06:40:58.955663",
     "status": "completed"
    },
    "tags": []
   },
   "outputs": [
    {
     "data": {
      "image/png": "[encoded data removed]",
      "text/plain": [
       "<Figure size 800x400 with 1 Axes>"
      ]
     },
     "metadata": {},
     "output_type": "display_data"
    }
   ],
   "source": [
    "plt.figure(figsize=(8, 4))\n",
    "sns.histplot(df['Purchase_Amount_USD'], bins=40, kde=True)\n",
    "plt.title(\"Distribution of Purchase Amounts (USD)\")\n",
    "plt.xlabel(\"Purchase Amount (USD)\")\n",
    "plt.ylabel(\"Frequency\")\n",
    "plt.show()"
   ]
  },
  {
   "cell_type": "markdown",
   "id": "4bcfafa2",
   "metadata": {
    "papermill": {
     "duration": 0.008532,
     "end_time": "2025-04-15T06:40:59.351644",
     "exception": false,
     "start_time": "2025-04-15T06:40:59.343112",
     "status": "completed"
    },
    "tags": []
   },
   "source": [
    "## Relationship between Review and Amount"
   ]
  },
  {
   "cell_type": "code",
   "execution_count": 13,
   "id": "e78ed0b0",
   "metadata": {
    "execution": {
     "iopub.execute_input": "2025-04-15T06:40:59.368864Z",
     "iopub.status.busy": "2025-04-15T06:40:59.368536Z",
     "iopub.status.idle": "2025-04-15T06:40:59.558100Z",
     "shell.execute_reply": "2025-04-15T06:40:59.557287Z"
    },
    "papermill": {
     "duration": 0.199794,
     "end_time": "2025-04-15T06:40:59.559514",
     "exception": false,
     "start_time": "2025-04-15T06:40:59.359720",
     "status": "completed"
    },
    "tags": []
   },
   "outputs": [
    {
     "data": {
      "image/png": "[encoded data removed]",
      "text/plain": [
       "<Figure size 600x400 with 1 Axes>"
      ]
     },
     "metadata": {},
     "output_type": "display_data"
    }
   ],
   "source": [
    "plt.figure(figsize=(6, 4))\n",
    "sns.scatterplot(x='Review_Rating', y='Purchase_Amount_USD', data=df)\n",
    "plt.title(\"Review Rating vs Purchase Amount\")\n",
    "plt.show()"
   ]
  },
  {
   "cell_type": "markdown",
   "id": "a257b168",
   "metadata": {
    "papermill": {
     "duration": 0.008825,
     "end_time": "2025-04-15T06:40:59.577574",
     "exception": false,
     "start_time": "2025-04-15T06:40:59.568749",
     "status": "completed"
    },
    "tags": []
   },
   "source": [
    "## Boxplot by Payment Method (categorical feature)"
   ]
  },
  {
   "cell_type": "code",
   "execution_count": 14,
   "id": "0c219db9",
   "metadata": {
    "execution": {
     "iopub.execute_input": "2025-04-15T06:40:59.596422Z",
     "iopub.status.busy": "2025-04-15T06:40:59.595665Z",
     "iopub.status.idle": "2025-04-15T06:40:59.744559Z",
     "shell.execute_reply": "2025-04-15T06:40:59.743699Z"
    },
    "papermill": {
     "duration": 0.159725,
     "end_time": "2025-04-15T06:40:59.745896",
     "exception": false,
     "start_time": "2025-04-15T06:40:59.586171",
     "status": "completed"
    },
    "tags": []
   },
   "outputs": [
    {
     "data": {
      "image/png": "[encoded data removed]",
      "text/plain": [
       "<Figure size 800x500 with 1 Axes>"
      ]
     },
     "metadata": {},
     "output_type": "display_data"
    }
   ],
   "source": [
    "plt.figure(figsize=(8, 5))\n",
    "sns.boxplot(x='Payment_Method', y='Purchase_Amount_USD', data=df)\n",
    "plt.title(\"Purchase Amount by Payment Method\")\n",
    "plt.show()"
   ]
  },
  {
   "cell_type": "markdown",
   "id": "b720a007",
   "metadata": {
    "papermill": {
     "duration": 0.009506,
     "end_time": "2025-04-15T06:40:59.765096",
     "exception": false,
     "start_time": "2025-04-15T06:40:59.755590",
     "status": "completed"
    },
    "tags": []
   },
   "source": [
    "## Correlation heatmap"
   ]
  },
  {
   "cell_type": "code",
   "execution_count": 15,
   "id": "19e52d61",
   "metadata": {
    "execution": {
     "iopub.execute_input": "2025-04-15T06:40:59.785931Z",
     "iopub.status.busy": "2025-04-15T06:40:59.785601Z",
     "iopub.status.idle": "2025-04-15T06:41:00.077148Z",
     "shell.execute_reply": "2025-04-15T06:41:00.076365Z"
    },
    "papermill": {
     "duration": 0.304252,
     "end_time": "2025-04-15T06:41:00.079270",
     "exception": false,
     "start_time": "2025-04-15T06:40:59.775018",
     "status": "completed"
    },
    "tags": []
   },
   "outputs": [
    {
     "data": {
      "image/png": "[encoded data removed]",
      "text/plain": [
       "<Figure size 800x500 with 2 Axes>"
      ]
     },
     "metadata": {},
     "output_type": "display_data"
    }
   ],
   "source": [
    "plt.figure(figsize=(8, 5))\n",
    "sns.heatmap(df.corr(numeric_only=True), annot=True, cmap='coolwarm',fmt='.2f')\n",
    "plt.title(\"Correlation Heatmap\")\n",
    "plt.show()"
   ]
  },
  {
   "cell_type": "markdown",
   "id": "e92d33b6",
   "metadata": {
    "papermill": {
     "duration": 0.011116,
     "end_time": "2025-04-15T06:41:00.102340",
     "exception": false,
     "start_time": "2025-04-15T06:41:00.091224",
     "status": "completed"
    },
    "tags": []
   },
   "source": [
    "# 7. MACHINE LEARNING: REGRESSION"
   ]
  },
  {
   "cell_type": "markdown",
   "id": "c30828c8",
   "metadata": {
    "papermill": {
     "duration": 0.011075,
     "end_time": "2025-04-15T06:41:00.124920",
     "exception": false,
     "start_time": "2025-04-15T06:41:00.113845",
     "status": "completed"
    },
    "tags": []
   },
   "source": [
    "## Define features "
   ]
  },
  {
   "cell_type": "code",
   "execution_count": 16,
   "id": "4b74f18d",
   "metadata": {
    "execution": {
     "iopub.execute_input": "2025-04-15T06:41:00.148940Z",
     "iopub.status.busy": "2025-04-15T06:41:00.148628Z",
     "iopub.status.idle": "2025-04-15T06:41:00.153915Z",
     "shell.execute_reply": "2025-04-15T06:41:00.153103Z"
    },
    "papermill": {
     "duration": 0.018674,
     "end_time": "2025-04-15T06:41:00.155103",
     "exception": false,
     "start_time": "2025-04-15T06:41:00.136429",
     "status": "completed"
    },
    "tags": []
   },
   "outputs": [],
   "source": [
    "X = df[['Item_Purchased', 'Review_Rating', 'Payment_Method']]\n",
    "y = df['Purchase_Amount_USD']"
   ]
  },
  {
   "cell_type": "markdown",
   "id": "120f93eb",
   "metadata": {
    "papermill": {
     "duration": 0.011342,
     "end_time": "2025-04-15T06:41:00.177939",
     "exception": false,
     "start_time": "2025-04-15T06:41:00.166597",
     "status": "completed"
    },
    "tags": []
   },
   "source": [
    "## Split data"
   ]
  },
  {
   "cell_type": "code",
   "execution_count": 17,
   "id": "5afb2ce6",
   "metadata": {
    "execution": {
     "iopub.execute_input": "2025-04-15T06:41:00.202060Z",
     "iopub.status.busy": "2025-04-15T06:41:00.201722Z",
     "iopub.status.idle": "2025-04-15T06:41:00.208165Z",
     "shell.execute_reply": "2025-04-15T06:41:00.207490Z"
    },
    "papermill": {
     "duration": 0.020179,
     "end_time": "2025-04-15T06:41:00.209437",
     "exception": false,
     "start_time": "2025-04-15T06:41:00.189258",
     "status": "completed"
    },
    "tags": []
   },
   "outputs": [],
   "source": [
    "X_train, X_test, y_train, y_test = train_test_split(X, y, test_size=0.2, random_state=537)\n"
   ]
  },
  {
   "cell_type": "markdown",
   "id": "41b100ae",
   "metadata": {
    "papermill": {
     "duration": 0.011183,
     "end_time": "2025-04-15T06:41:00.232415",
     "exception": false,
     "start_time": "2025-04-15T06:41:00.221232",
     "status": "completed"
    },
    "tags": []
   },
   "source": [
    "## Scale features"
   ]
  },
  {
   "cell_type": "code",
   "execution_count": 18,
   "id": "e7a5d1e4",
   "metadata": {
    "execution": {
     "iopub.execute_input": "2025-04-15T06:41:00.256664Z",
     "iopub.status.busy": "2025-04-15T06:41:00.256353Z",
     "iopub.status.idle": "2025-04-15T06:41:00.264663Z",
     "shell.execute_reply": "2025-04-15T06:41:00.264067Z"
    },
    "papermill": {
     "duration": 0.021862,
     "end_time": "2025-04-15T06:41:00.265884",
     "exception": false,
     "start_time": "2025-04-15T06:41:00.244022",
     "status": "completed"
    },
    "tags": []
   },
   "outputs": [],
   "source": [
    "scaler = StandardScaler()\n",
    "X_train_scaled = scaler.fit_transform(X_train)\n",
    "X_test_scaled = scaler.transform(X_test)"
   ]
  },
  {
   "cell_type": "markdown",
   "id": "80b2c17c",
   "metadata": {
    "papermill": {
     "duration": 0.011066,
     "end_time": "2025-04-15T06:41:00.288521",
     "exception": false,
     "start_time": "2025-04-15T06:41:00.277455",
     "status": "completed"
    },
    "tags": []
   },
   "source": [
    "## Train models"
   ]
  },
  {
   "cell_type": "code",
   "execution_count": 19,
   "id": "e209ef26",
   "metadata": {
    "execution": {
     "iopub.execute_input": "2025-04-15T06:41:00.312374Z",
     "iopub.status.busy": "2025-04-15T06:41:00.312077Z",
     "iopub.status.idle": "2025-04-15T06:41:00.343014Z",
     "shell.execute_reply": "2025-04-15T06:41:00.342100Z"
    },
    "papermill": {
     "duration": 0.044664,
     "end_time": "2025-04-15T06:41:00.344609",
     "exception": false,
     "start_time": "2025-04-15T06:41:00.299945",
     "status": "completed"
    },
    "tags": []
   },
   "outputs": [
    {
     "name": "stdout",
     "output_type": "stream",
     "text": [
      "\n",
      "Regression Model Results\n",
      "Linear Regression: R2 = 0.001 | RMSE = 371.02\n",
      "Ridge Regression: R2 = 0.001 | RMSE = 371.02\n",
      "Lasso Regression: R2 = 0.001 | RMSE = 371.01\n"
     ]
    }
   ],
   "source": [
    "models = {\n",
    "    \"Linear Regression\": LinearRegression(),\n",
    "    \"Ridge Regression\": Ridge(alpha=1.0),\n",
    "    \"Lasso Regression\": Lasso(alpha=0.1)\n",
    "}\n",
    "\n",
    "print(\"\\nRegression Model Results\")\n",
    "for name, model in models.items():\n",
    "    model.fit(X_train_scaled, y_train)\n",
    "    preds = model.predict(X_test_scaled)\n",
    "    r2 = r2_score(y_test, preds)\n",
    "    rmse = np.sqrt(mean_squared_error(y_test, preds))\n",
    "    print(f\"{name}: R2 = {r2:.3f} | RMSE = {rmse:.2f}\")"
   ]
  },
  {
   "cell_type": "markdown",
   "id": "7daaeabe",
   "metadata": {
    "papermill": {
     "duration": 0.011421,
     "end_time": "2025-04-15T06:41:00.367938",
     "exception": false,
     "start_time": "2025-04-15T06:41:00.356517",
     "status": "completed"
    },
    "tags": []
   },
   "source": [
    "# 8. CLUSTERING CUSTOMERS BASED ON BEHAVIOR"
   ]
  },
  {
   "cell_type": "markdown",
   "id": "7431e0e6",
   "metadata": {
    "papermill": {
     "duration": 0.01128,
     "end_time": "2025-04-15T06:41:00.390673",
     "exception": false,
     "start_time": "2025-04-15T06:41:00.379393",
     "status": "completed"
    },
    "tags": []
   },
   "source": [
    "## Let's use Item, Rating, Payment as features"
   ]
  },
  {
   "cell_type": "code",
   "execution_count": 20,
   "id": "22606cc8",
   "metadata": {
    "execution": {
     "iopub.execute_input": "2025-04-15T06:41:00.415422Z",
     "iopub.status.busy": "2025-04-15T06:41:00.414672Z",
     "iopub.status.idle": "2025-04-15T06:41:00.422407Z",
     "shell.execute_reply": "2025-04-15T06:41:00.421601Z"
    },
    "papermill": {
     "duration": 0.021518,
     "end_time": "2025-04-15T06:41:00.423816",
     "exception": false,
     "start_time": "2025-04-15T06:41:00.402298",
     "status": "completed"
    },
    "tags": []
   },
   "outputs": [],
   "source": [
    "cluster_features = df[['Item_Purchased', 'Review_Rating', 'Payment_Method']]\n",
    "cluster_scaled = StandardScaler().fit_transform(cluster_features)"
   ]
  },
  {
   "cell_type": "markdown",
   "id": "0cb9c4ad",
   "metadata": {
    "papermill": {
     "duration": 0.011291,
     "end_time": "2025-04-15T06:41:00.447138",
     "exception": false,
     "start_time": "2025-04-15T06:41:00.435847",
     "status": "completed"
    },
    "tags": []
   },
   "source": [
    "## Elbow method to find optimal clusters"
   ]
  },
  {
   "cell_type": "code",
   "execution_count": 21,
   "id": "3728b14f",
   "metadata": {
    "execution": {
     "iopub.execute_input": "2025-04-15T06:41:00.471405Z",
     "iopub.status.busy": "2025-04-15T06:41:00.471110Z",
     "iopub.status.idle": "2025-04-15T06:41:00.898221Z",
     "shell.execute_reply": "2025-04-15T06:41:00.897558Z"
    },
    "papermill": {
     "duration": 0.441409,
     "end_time": "2025-04-15T06:41:00.900039",
     "exception": false,
     "start_time": "2025-04-15T06:41:00.458630",
     "status": "completed"
    },
    "tags": []
   },
   "outputs": [],
   "source": [
    "ssd = []\n",
    "for k in range(1, 11):\n",
    "    kmeans = KMeans(n_clusters=k, random_state=42)\n",
    "    kmeans.fit(cluster_scaled)\n",
    "    ssd.append(kmeans.inertia_)"
   ]
  },
  {
   "cell_type": "markdown",
   "id": "ff559b0d",
   "metadata": {
    "papermill": {
     "duration": 0.011389,
     "end_time": "2025-04-15T06:41:00.924401",
     "exception": false,
     "start_time": "2025-04-15T06:41:00.913012",
     "status": "completed"
    },
    "tags": []
   },
   "source": [
    "## Plot elbow curve"
   ]
  },
  {
   "cell_type": "code",
   "execution_count": 22,
   "id": "3d740a54",
   "metadata": {
    "execution": {
     "iopub.execute_input": "2025-04-15T06:41:00.948682Z",
     "iopub.status.busy": "2025-04-15T06:41:00.948019Z",
     "iopub.status.idle": "2025-04-15T06:41:01.105719Z",
     "shell.execute_reply": "2025-04-15T06:41:01.104858Z"
    },
    "papermill": {
     "duration": 0.171454,
     "end_time": "2025-04-15T06:41:01.107196",
     "exception": false,
     "start_time": "2025-04-15T06:41:00.935742",
     "status": "completed"
    },
    "tags": []
   },
   "outputs": [
    {
     "data": {
      "image/png": "[encoded data removed]",
      "text/plain": [
       "<Figure size 700x400 with 1 Axes>"
      ]
     },
     "metadata": {},
     "output_type": "display_data"
    }
   ],
   "source": [
    "plt.figure(figsize=(7, 4))\n",
    "plt.plot(range(1, 11), ssd, marker='o')\n",
    "plt.xlabel(\"Number of Clusters\")\n",
    "plt.ylabel(\"Inertia (SSD)\")\n",
    "plt.title(\"Elbow Method - Optimal K\")\n",
    "plt.show()"
   ]
  },
  {
   "cell_type": "markdown",
   "id": "966e3719",
   "metadata": {
    "papermill": {
     "duration": 0.011944,
     "end_time": "2025-04-15T06:41:01.132095",
     "exception": false,
     "start_time": "2025-04-15T06:41:01.120151",
     "status": "completed"
    },
    "tags": []
   },
   "source": [
    "## Use K=4 for clustering"
   ]
  },
  {
   "cell_type": "code",
   "execution_count": 23,
   "id": "fc305638",
   "metadata": {
    "execution": {
     "iopub.execute_input": "2025-04-15T06:41:01.157710Z",
     "iopub.status.busy": "2025-04-15T06:41:01.157414Z",
     "iopub.status.idle": "2025-04-15T06:41:01.210818Z",
     "shell.execute_reply": "2025-04-15T06:41:01.210143Z"
    },
    "papermill": {
     "duration": 0.068285,
     "end_time": "2025-04-15T06:41:01.212546",
     "exception": false,
     "start_time": "2025-04-15T06:41:01.144261",
     "status": "completed"
    },
    "tags": []
   },
   "outputs": [],
   "source": [
    "kmeans = KMeans(n_clusters=4, random_state=537)\n",
    "df['Cluster'] = kmeans.fit_predict(cluster_scaled)"
   ]
  },
  {
   "cell_type": "markdown",
   "id": "55923e39",
   "metadata": {
    "papermill": {
     "duration": 0.011895,
     "end_time": "2025-04-15T06:41:01.237519",
     "exception": false,
     "start_time": "2025-04-15T06:41:01.225624",
     "status": "completed"
    },
    "tags": []
   },
   "source": [
    "## Visualize clusters by purchase amount"
   ]
  },
  {
   "cell_type": "code",
   "execution_count": 24,
   "id": "94bedd14",
   "metadata": {
    "execution": {
     "iopub.execute_input": "2025-04-15T06:41:01.263062Z",
     "iopub.status.busy": "2025-04-15T06:41:01.262371Z",
     "iopub.status.idle": "2025-04-15T06:41:01.427541Z",
     "shell.execute_reply": "2025-04-15T06:41:01.426715Z"
    },
    "papermill": {
     "duration": 0.179452,
     "end_time": "2025-04-15T06:41:01.428974",
     "exception": false,
     "start_time": "2025-04-15T06:41:01.249522",
     "status": "completed"
    },
    "tags": []
   },
   "outputs": [
    {
     "data": {
      "image/png": "[encoded data removed]",
      "text/plain": [
       "<Figure size 800x500 with 1 Axes>"
      ]
     },
     "metadata": {},
     "output_type": "display_data"
    }
   ],
   "source": [
    "plt.figure(figsize=(8, 5))\n",
    "sns.boxplot(x='Cluster', y='Purchase_Amount_USD', data=df, palette='Set2')\n",
    "plt.title(\"Purchase Amount by Customer Cluster\")\n",
    "plt.show()"
   ]
  },
  {
   "cell_type": "markdown",
   "id": "5d6b4eee",
   "metadata": {
    "papermill": {
     "duration": 0.012652,
     "end_time": "2025-04-15T06:41:01.455125",
     "exception": false,
     "start_time": "2025-04-15T06:41:01.442473",
     "status": "completed"
    },
    "tags": []
   },
   "source": [
    "## Cluster summary"
   ]
  },
  {
   "cell_type": "code",
   "execution_count": 25,
   "id": "f6e219f9",
   "metadata": {
    "execution": {
     "iopub.execute_input": "2025-04-15T06:41:01.482970Z",
     "iopub.status.busy": "2025-04-15T06:41:01.482343Z",
     "iopub.status.idle": "2025-04-15T06:41:01.493085Z",
     "shell.execute_reply": "2025-04-15T06:41:01.492196Z"
    },
    "papermill": {
     "duration": 0.026171,
     "end_time": "2025-04-15T06:41:01.494350",
     "exception": false,
     "start_time": "2025-04-15T06:41:01.468179",
     "status": "completed"
    },
    "tags": []
   },
   "outputs": [
    {
     "name": "stdout",
     "output_type": "stream",
     "text": [
      "\n",
      "Cluster Summary:\n",
      "         Purchase_Amount_USD  Review_Rating\n",
      "Cluster                                    \n",
      "0                 147.435459       4.004821\n",
      "1                 161.167808       3.123630\n",
      "2                 141.127273       2.001515\n",
      "3                 150.021667       2.844167\n"
     ]
    }
   ],
   "source": [
    "print(\"\\nCluster Summary:\")\n",
    "print(df.groupby('Cluster')[['Purchase_Amount_USD', 'Review_Rating']].mean())"
   ]
  },
  {
   "cell_type": "markdown",
   "id": "6fdbb94f",
   "metadata": {
    "papermill": {
     "duration": 0.012996,
     "end_time": "2025-04-15T06:41:01.521174",
     "exception": false,
     "start_time": "2025-04-15T06:41:01.508178",
     "status": "completed"
    },
    "tags": []
   },
   "source": [
    "---\n",
    "\n",
    "#  **Work Summary – Fashion Retail Sales Analysis**\n",
    "\n",
    "###  **Project Title**:  \n",
    "**Comprehensive Data Analysis and Customer Segmentation on Fashion Retail Sales Data**\n",
    "\n",
    "###  **Objective**:  \n",
    "The primary objective of this project is to perform a comprehensive analysis on fashion retail sales data to gain actionable insights, predict purchasing behavior, and identify customer segments based on purchase characteristics.\n",
    "\n",
    "###  **Tools & Technologies Used**:\n",
    "- Python (Pandas, NumPy, Matplotlib, Seaborn)\n",
    "- Scikit-learn (Regression & Clustering models)\n",
    "- Jupyter Notebook / IDE\n",
    "\n",
    "---\n",
    "\n",
    "##  **1. Data Overview & Preparation**\n",
    "- The dataset contains **2,487 records** with the following key fields:  \n",
    "  `Customer ID`, `Item Purchased`, `Purchase Amount (USD)`, `Date of Purchase`, `Review Rating`, and `Payment Method`.\n",
    "- Column names were cleaned and standardized.\n",
    "- `Date_Purchase` was converted to datetime format for future extensibility (e.g., time series or seasonality analysis).\n",
    "- Null values were checked; no major issues were found.\n",
    "\n",
    "---\n",
    "\n",
    "##  **2. Exploratory Data Analysis (EDA)**\n",
    "- **Distribution analysis** was performed on the `Purchase Amount (USD)` variable to detect skewness and outliers.\n",
    "- Relationships between customer review ratings and purchase amounts were visualized via scatter plots.\n",
    "- **Boxplots** were used to examine variation in sales amounts across different payment methods.\n",
    "- A **correlation heatmap** helped identify relationships between numerical features.\n",
    "\n",
    "---\n",
    "\n",
    "##  **3. Predictive Modeling: Regression Analysis**\n",
    "- Regression models were developed to **predict purchase amounts** based on the features:\n",
    "  - Item Purchased  \n",
    "  - Customer Review Rating  \n",
    "  - Payment Method\n",
    "- Models Implemented:\n",
    "  - Linear Regression  \n",
    "  - Ridge Regression  \n",
    "  - Lasso Regression\n",
    "- Metrics used for evaluation:\n",
    "  - **R² Score**: Measures model explanatory power  \n",
    "  - **RMSE**: Measures prediction error\n",
    "- Outcome: The models showed moderate predictive capability, with Ridge and Linear Regression performing best on test data.\n",
    "\n",
    "---\n",
    "\n",
    "##  **4. Customer Segmentation: Clustering Analysis**\n",
    "- A **K-Means clustering algorithm** was applied using features related to purchase behavior.\n",
    "- Optimal number of clusters was determined using the **Elbow Method**.\n",
    "- The dataset was segmented into **3 distinct customer clusters**, revealing groups with different purchasing power and behavior.\n",
    "- Visualizations were generated to compare average purchase amounts and review scores across clusters.\n",
    "\n",
    "---\n",
    "\n",
    "##  **Key Findings**:\n",
    "- **Review Rating** showed a weak but noticeable impact on purchase amount.\n",
    "- **Payment Method** was linked to differences in average spending, suggesting preferred methods among higher-paying customers.\n",
    "- **Clustering** revealed behavioral segments, which can be targeted with differentiated marketing strategies.\n",
    "\n",
    "---\n",
    "\n",
    "# Thank you for taking the time to review my work. I would be very happy if you could upvote! 😊"
   ]
  },
  {
   "cell_type": "code",
   "execution_count": null,
   "id": "811d5185",
   "metadata": {
    "papermill": {
     "duration": 0.012775,
     "end_time": "2025-04-15T06:41:01.546932",
     "exception": false,
     "start_time": "2025-04-15T06:41:01.534157",
     "status": "completed"
    },
    "tags": []
   },
   "outputs": [],
   "source": []
  }
 ],
 "metadata": {
  "kaggle": {
   "accelerator": "none",
   "dataSources": [
    {
     "datasetId": 7018939,
     "sourceId": 11235579,
     "sourceType": "datasetVersion"
    }
   ],
   "dockerImageVersionId": 31012,
   "isGpuEnabled": false,
   "isInternetEnabled": true,
   "language": "python",
   "sourceType": "notebook"
  },
  "kernelspec": {
   "display_name": "Python 3",
   "language": "python",
   "name": "python3"
  },
  "language_info": {
   "codemirror_mode": {
    "name": "ipython",
    "version": 3
   },
   "file_extension": ".py",
   "mimetype": "text/x-python",
   "name": "python",
   "nbconvert_exporter": "python",
   "pygments_lexer": "ipython3",
   "version": "3.11.11"
  },
  "papermill": {
   "default_parameters": {},
   "duration": 12.103296,
   "end_time": "2025-04-15T06:41:02.179314",
   "environment_variables": {},
   "exception": null,
   "input_path": "__notebook__.ipynb",
   "output_path": "__notebook__.ipynb",
   "parameters": {},
   "start_time": "2025-04-15T06:40:50.076018",
   "version": "2.6.0"
  }
 },
 "nbformat": 4,
 "nbformat_minor": 5
}
